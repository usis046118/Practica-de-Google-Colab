{
  "nbformat": 4,
  "nbformat_minor": 0,
  "metadata": {
    "colab": {
      "name": "Copia de Untitled0.ipynb",
      "provenance": [],
      "collapsed_sections": [],
      "authorship_tag": "ABX9TyNruoD3Hm46NfV8xD/nKYH+",
      "include_colab_link": true
    },
    "kernelspec": {
      "name": "python3",
      "display_name": "Python 3"
    },
    "language_info": {
      "name": "python"
    }
  },
  "cells": [
    {
      "cell_type": "markdown",
      "metadata": {
        "id": "view-in-github",
        "colab_type": "text"
      },
      "source": [
        "<a href=\"https://colab.research.google.com/github/usis046118/Practica-de-Google-Colab/blob/main/Copia_de_Untitled0.ipynb\" target=\"_parent\"><img src=\"https://colab.research.google.com/assets/colab-badge.svg\" alt=\"Open In Colab\"/></a>"
      ]
    },
    {
      "cell_type": "code",
      "execution_count": null,
      "metadata": {
        "colab": {
          "base_uri": "https://localhost:8080/"
        },
        "id": "xcHgEntriyXH",
        "outputId": "8e69d6c8-1edd-4464-8132-bd7f05417a2d"
      },
      "outputs": [
        {
          "output_type": "stream",
          "name": "stdout",
          "text": [
            "la suma de num1:  5  + num2:  4.5 es igual a:  9.5\n"
          ]
        }
      ],
      "source": [
        "num1 = 5\n",
        "num2 = 4.5\n",
        "resp = num1 + num2\n",
        "print(\"la suma de num1: \", num1 , \" + num2: \", num2, \"es igual a: \", resp)\n"
      ]
    },
    {
      "cell_type": "code",
      "source": [
        "num1 = 10\n",
        "num2 = 7\n",
        "resp = num1 - num2\n",
        "print(\"la resta de num1: \", num1 , \" - num2: \", num2, \"es igual a: \", resp )"
      ],
      "metadata": {
        "colab": {
          "base_uri": "https://localhost:8080/"
        },
        "id": "SNVXHCDYkpV9",
        "outputId": "40ac3b69-f1d7-468c-fd19-6443d352e07a"
      },
      "execution_count": null,
      "outputs": [
        {
          "output_type": "stream",
          "name": "stdout",
          "text": [
            "la resta de num1:  10  - num2:  7 es igual a:  3\n"
          ]
        }
      ]
    },
    {
      "cell_type": "code",
      "source": [
        "num1 = float(input(\"ingrese un numero: \"))\n",
        "num2 = float(input(\"ingrese otro numero: \"))\n",
        "resp = num1 + num2\n",
        "print(\"suma\", resp)\n"
      ],
      "metadata": {
        "colab": {
          "base_uri": "https://localhost:8080/"
        },
        "id": "iRseVIoVlnm7",
        "outputId": "f3007649-367e-498e-dee0-222f0bd3605d"
      },
      "execution_count": null,
      "outputs": [
        {
          "output_type": "stream",
          "name": "stdout",
          "text": [
            "ingrese un numero: 10\n",
            "ingrese otro numero: 15\n",
            "suma 25.0\n"
          ]
        }
      ]
    },
    {
      "cell_type": "code",
      "source": [
        "num1 = float(input(\"ingrese un numero: \"))\n",
        "num2 = float(input(\"ingrese otro numero: \"))\n",
        "resp = num1 * num2\n",
        "print(\"multiplicar\", resp)"
      ],
      "metadata": {
        "colab": {
          "base_uri": "https://localhost:8080/"
        },
        "id": "SCN-NaBin5iP",
        "outputId": "f56f2fdd-b598-4c69-89fb-b42c9b1065f0"
      },
      "execution_count": null,
      "outputs": [
        {
          "output_type": "stream",
          "name": "stdout",
          "text": [
            "ingrese un numero: 5\n",
            "ingrese otro numero: 5\n",
            "multiplicar 25.0\n"
          ]
        }
      ]
    },
    {
      "cell_type": "code",
      "source": [
        "num1 = float(input(\"ingrese un numero: \"))\n",
        "num2 = float(input(\"ingrese otro numero: \"))\n",
        "resp = num1 + num2\n",
        "print(\"suma\", resp, type(resp))\n"
      ],
      "metadata": {
        "colab": {
          "base_uri": "https://localhost:8080/"
        },
        "id": "1InjRcskqbQL",
        "outputId": "73436706-4674-49be-d28b-db35d1384a3f"
      },
      "execution_count": null,
      "outputs": [
        {
          "output_type": "stream",
          "name": "stdout",
          "text": [
            "ingrese un numero: 5\n",
            "ingrese otro numero: 5\n",
            "suma 10.0 <class 'float'>\n"
          ]
        }
      ]
    },
    {
      "cell_type": "code",
      "source": [
        "nombre = input(\"dime tu nombre: \")\n",
        "print(nombre, type(nombre), len(nombre))\n",
        "print(nombre[0])"
      ],
      "metadata": {
        "colab": {
          "base_uri": "https://localhost:8080/"
        },
        "id": "Fh1v3kPXqsli",
        "outputId": "78fc1eec-ef84-4c7a-ec9a-15cac7a993a7"
      },
      "execution_count": null,
      "outputs": [
        {
          "output_type": "stream",
          "name": "stdout",
          "text": [
            "dime tu nombre: Miguel\n",
            "Miguel <class 'str'> 6\n",
            "M\n"
          ]
        }
      ]
    },
    {
      "cell_type": "code",
      "source": [
        "nombre = input(\"dime tu nombre: \")\n",
        "print(nombre, type(nombre), len(nombre))\n",
        "print(nombre[0], nombre[1], nombre[2], nombre[3])"
      ],
      "metadata": {
        "colab": {
          "base_uri": "https://localhost:8080/"
        },
        "id": "HSgwW7LYsyIG",
        "outputId": "1e54b583-62d3-4dcc-b425-bc792901d963"
      },
      "execution_count": null,
      "outputs": [
        {
          "output_type": "stream",
          "name": "stdout",
          "text": [
            "dime tu nombre: Miguel\n",
            "Miguel <class 'str'> 6\n",
            "M i g u\n"
          ]
        }
      ]
    },
    {
      "cell_type": "code",
      "source": [
        "resp = 4 - 4 * 6 / 2 + 1\n",
        "print(resp)"
      ],
      "metadata": {
        "colab": {
          "base_uri": "https://localhost:8080/"
        },
        "id": "W4GpIaX4tTJE",
        "outputId": "3c6a07f1-3edf-4ada-9906-717f173d1770"
      },
      "execution_count": null,
      "outputs": [
        {
          "output_type": "stream",
          "name": "stdout",
          "text": [
            "-7.0\n"
          ]
        }
      ]
    },
    {
      "cell_type": "code",
      "source": [
        "gustaProgramacion = True #false\n",
        "print(\"te gusta programar; \", gustaProgramacion) \n",
        "gustaDiseno = False\n",
        "print(\"te gusta diseñar. \", gustaDiseno)"
      ],
      "metadata": {
        "colab": {
          "base_uri": "https://localhost:8080/"
        },
        "id": "gr7xqdyguN2V",
        "outputId": "28807cf5-ec53-4d5b-833b-d6facc64d47e"
      },
      "execution_count": null,
      "outputs": [
        {
          "output_type": "stream",
          "name": "stdout",
          "text": [
            "te gusta programar;  True\n",
            "te gusta diseñar.  False\n"
          ]
        }
      ]
    },
    {
      "cell_type": "code",
      "source": [
        "def suma(num1, num2):\n",
        "  return num1 + num2\n",
        "print(\"la suma de 5 + 7 = \", suma(5,7))"
      ],
      "metadata": {
        "colab": {
          "base_uri": "https://localhost:8080/"
        },
        "id": "SkbWmprzwHup",
        "outputId": "0bcda29d-cefc-46c7-9688-a999ff13ffaf"
      },
      "execution_count": null,
      "outputs": [
        {
          "output_type": "stream",
          "name": "stdout",
          "text": [
            "la suma de 5 + 7 =  12\n"
          ]
        }
      ]
    },
    {
      "cell_type": "code",
      "source": [
        "num1 = float(input(\"ingrese un numero: \"))\n",
        "num2 = float(input(\"ingrese otro numero: \"))\n",
        "def suma(num1, num2):\n",
        "  return num1 + num2\n",
        "resp = num1 + num2\n",
        "print(\"suma\", resp)\n"
      ],
      "metadata": {
        "colab": {
          "base_uri": "https://localhost:8080/"
        },
        "id": "V7Z0pi-cw4ag",
        "outputId": "a8b7b926-d4c9-48a3-9e72-a73443f6f82a"
      },
      "execution_count": null,
      "outputs": [
        {
          "output_type": "stream",
          "name": "stdout",
          "text": [
            "ingrese un numero: 5\n",
            "ingrese otro numero: 5\n",
            "suma 10.0\n"
          ]
        }
      ]
    },
    {
      "cell_type": "code",
      "source": [
        "c=27"
      ],
      "metadata": {
        "id": "mRgTBD7Kk80n"
      },
      "execution_count": null,
      "outputs": []
    },
    {
      "cell_type": "code",
      "source": [
        "def convertirCaf(c):\n",
        "  return c*9/5 + 32"
      ],
      "metadata": {
        "id": "GGXtOmuQmXGv"
      },
      "execution_count": null,
      "outputs": []
    },
    {
      "cell_type": "code",
      "source": [
        "print(\"Celcius a F: \", convertirCaf(c))"
      ],
      "metadata": {
        "colab": {
          "base_uri": "https://localhost:8080/"
        },
        "id": "aztG8yYqn_Wp",
        "outputId": "4c88f55e-c2f0-45a5-9fc4-3a5781edb1fd"
      },
      "execution_count": null,
      "outputs": [
        {
          "output_type": "stream",
          "name": "stdout",
          "text": [
            "Celcius a F:  80.6\n"
          ]
        }
      ]
    },
    {
      "cell_type": "code",
      "source": [
        "gradosCiudades = [27, 30, 32, 35, 40, 45]"
      ],
      "metadata": {
        "id": "OHUdjLSnpcv_"
      },
      "execution_count": null,
      "outputs": []
    },
    {
      "cell_type": "code",
      "source": [
        "print(\"respuesta: \", list(map(convertirCaf, gradosCiudades)))"
      ],
      "metadata": {
        "colab": {
          "base_uri": "https://localhost:8080/"
        },
        "id": "V7XpAaSyp-QP",
        "outputId": "13aba976-2b1b-49d8-da8a-6b5693880e6c"
      },
      "execution_count": null,
      "outputs": [
        {
          "output_type": "stream",
          "name": "stdout",
          "text": [
            "respuesta:  [80.6, 86.0, 89.6, 95.0, 104.0, 113.0]\n"
          ]
        }
      ]
    },
    {
      "cell_type": "code",
      "source": [
        "f=80.6"
      ],
      "metadata": {
        "id": "jG0M5xaHrClX"
      },
      "execution_count": null,
      "outputs": []
    },
    {
      "cell_type": "code",
      "source": [
        "def convertirFaC(f):\n",
        "  return (f-32) * 5/9"
      ],
      "metadata": {
        "id": "dg0cQT0frZBM"
      },
      "execution_count": null,
      "outputs": []
    },
    {
      "cell_type": "code",
      "source": [
        "print(\"Fahrenheit a C: \", convertirFaC(f))"
      ],
      "metadata": {
        "colab": {
          "base_uri": "https://localhost:8080/"
        },
        "id": "GIsSlvROrsNf",
        "outputId": "fab9be85-4d33-4f51-9b32-d1a033ca1962"
      },
      "execution_count": null,
      "outputs": [
        {
          "output_type": "stream",
          "name": "stdout",
          "text": [
            "Fahrenheit a C:  26.999999999999996\n"
          ]
        }
      ]
    },
    {
      "cell_type": "code",
      "source": [
        "gradosF = [80.6, 86.0, 89.6, 95.0, 104.0, 113.0]"
      ],
      "metadata": {
        "id": "7zz3b34EuD49"
      },
      "execution_count": null,
      "outputs": []
    },
    {
      "cell_type": "code",
      "source": [
        "print(gradosF, \"respuesta: \", list(map(convertirFaC, gradosF)))"
      ],
      "metadata": {
        "colab": {
          "base_uri": "https://localhost:8080/"
        },
        "id": "Au1MP-SeuOi1",
        "outputId": "486147e2-c8e3-428a-b39b-eeff167e2e4e"
      },
      "execution_count": null,
      "outputs": [
        {
          "output_type": "stream",
          "name": "stdout",
          "text": [
            "[80.6, 86.0, 89.6, 95.0, 104.0, 113.0] respuesta:  [26.999999999999996, 30.0, 32.0, 35.0, 40.0, 45.0]\n"
          ]
        }
      ]
    },
    {
      "cell_type": "code",
      "source": [
        "print(gradosF, \"respuesta: \", list(map(lambda f: (f-32)*5/9, gradosF)) )"
      ],
      "metadata": {
        "colab": {
          "base_uri": "https://localhost:8080/"
        },
        "id": "eOmFg1jH2SXJ",
        "outputId": "be542711-768e-47dc-b718-206c03202def"
      },
      "execution_count": null,
      "outputs": [
        {
          "output_type": "stream",
          "name": "stdout",
          "text": [
            "[80.6, 86.0, 89.6, 95.0, 104.0, 113.0] respuesta:  [26.999999999999996, 30.0, 32.0, 35.0, 40.0, 45.0]\n"
          ]
        }
      ]
    },
    {
      "cell_type": "markdown",
      "source": [
        "tarea: hacer un algoritmo en python que convierta de grados celsius a kelvin y viceversa, usando funciones y lambda.\n",
        "\n",
        "hacer un algoritmo en python que encuentre la nota final del ciclo de una materia en particular usando funciones de usuario y lambda."
      ],
      "metadata": {
        "id": "FDu7R3EUzy6S"
      }
    }
  ]
}